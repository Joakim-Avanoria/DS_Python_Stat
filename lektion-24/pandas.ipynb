{
 "cells": [
  {
   "cell_type": "markdown",
   "id": "49e641f5",
   "metadata": {},
   "source": [
    "# Pandas"
   ]
  },
  {
   "cell_type": "code",
   "execution_count": null,
   "id": "5628dbca",
   "metadata": {},
   "outputs": [],
   "source": [
    "import pandas as pd\n",
    "\n",
    "s = pd.Series([10, 20, 30], name=\"studietimmar\")\n",
    "\n",
    "df_demo = pd.DataFrame({\n",
    "    \"student\": [\"A\", \"B\", \"C\"],\n",
    "    \"studietimmar\": [10, 5, 8],\n",
    "    \"provpoäng\": [85, 70, 78]\n",
    "})\n",
    "\n",
    "\n",
    "print(s)\n",
    "# print(type(s))\n",
    "\n",
    "print(df_demo)\n",
    "# print(type(df_demo))"
   ]
  },
  {
   "cell_type": "code",
   "execution_count": null,
   "id": "476d6ada",
   "metadata": {},
   "outputs": [],
   "source": [
    "print(s.values)\n",
    "print(s.index)\n",
    "\n",
    "print(df_demo.columns)\n",
    "print(df_demo.index)\n",
    "print(df_demo.shape)"
   ]
  },
  {
   "cell_type": "code",
   "execution_count": null,
   "id": "7922a39d",
   "metadata": {},
   "outputs": [],
   "source": [
    "df = pd.read_csv(\"studietimmar_poang.csv\")\n",
    "# df.head()\n",
    "\n",
    "print(df.shape)\n",
    "print(df.columns)\n",
    "print(df.dtypes)"
   ]
  },
  {
   "cell_type": "code",
   "execution_count": null,
   "id": "23368807",
   "metadata": {},
   "outputs": [],
   "source": [
    "df.columns = (df.columns\n",
    "              .str.strip()\n",
    "              .str.replace(\" \", \"_\")\n",
    "              .str.lower())\n",
    "df.columns"
   ]
  },
  {
   "cell_type": "code",
   "execution_count": null,
   "id": "17e4b156",
   "metadata": {},
   "outputs": [],
   "source": [
    "df.info()"
   ]
  },
  {
   "cell_type": "code",
   "execution_count": null,
   "id": "eab65446",
   "metadata": {},
   "outputs": [],
   "source": [
    "df.describe()"
   ]
  },
  {
   "cell_type": "code",
   "execution_count": null,
   "id": "52b6e6f1",
   "metadata": {},
   "outputs": [],
   "source": [
    "df[\"klass\"].value_counts(dropna=False)"
   ]
  },
  {
   "cell_type": "code",
   "execution_count": null,
   "id": "76518226",
   "metadata": {},
   "outputs": [],
   "source": [
    "# df[\"studietimmar\"].head()\n",
    "# df[[\"studietimmar\", \"provpoäng\"]].head()\n",
    "\n",
    "# mask = (df[\"studietimmar\"] >= 5)\n",
    "# mask = (df[\"studietimmar\"] >= 5) & (df[\"provpoäng\"] >= 95)\n",
    "# mask = (df[\"studietimmar\"] >= 5) | (df[\"provpoäng\"] >= 80)\n",
    "\n",
    "# Negation: 'inte'  (t.ex. studietimmer saknas eller < 5)\n",
    "mask = ~(df[\"studietimmar\"] >= 5)\n",
    "\n",
    "\n",
    "df[mask].head()"
   ]
  },
  {
   "cell_type": "code",
   "execution_count": null,
   "id": "6cea374d",
   "metadata": {},
   "outputs": [],
   "source": [
    "# loc: radetiketter, kolumnnamn\n",
    "# df.loc[0:3, [\"student\", \"studietimmar\"]]\n",
    "\n",
    "#iloc: radpositioner, kolumnpositioner\n",
    "df.iloc[0:3, 0:3]"
   ]
  },
  {
   "cell_type": "code",
   "execution_count": null,
   "id": "d21d7d26",
   "metadata": {},
   "outputs": [],
   "source": [
    "df.sort_values(\"provpoäng\", ascending=False).head(10)"
   ]
  },
  {
   "cell_type": "code",
   "execution_count": null,
   "id": "6d9df489",
   "metadata": {},
   "outputs": [],
   "source": [
    "df_renamed = df.rename(columns={\"provpoäng\": \"poäng\"})\n",
    "df_renamed.head()"
   ]
  },
  {
   "cell_type": "code",
   "execution_count": null,
   "id": "1782d03b",
   "metadata": {},
   "outputs": [],
   "source": [
    "df = df.assign(poäng_per_timme = df[\"provpoäng\"] / df[\"studietimmar\"])\n",
    "\n",
    "df.head()"
   ]
  },
  {
   "cell_type": "code",
   "execution_count": null,
   "id": "a9b179cf",
   "metadata": {},
   "outputs": [],
   "source": [
    "df_drop = df.drop(columns=[\"poäng_per_timme\"])\n",
    "df_drop.head()"
   ]
  },
  {
   "cell_type": "code",
   "execution_count": 53,
   "id": "8bc3a1eb",
   "metadata": {},
   "outputs": [
    {
     "data": {
      "text/plain": [
       "student            0\n",
       "studietimmar       4\n",
       "provpoäng          2\n",
       "klass              0\n",
       "poäng_per_timme    6\n",
       "dtype: int64"
      ]
     },
     "execution_count": 53,
     "metadata": {},
     "output_type": "execute_result"
    }
   ],
   "source": [
    "df.isna().sum()"
   ]
  },
  {
   "cell_type": "code",
   "execution_count": 56,
   "id": "422af5e3",
   "metadata": {},
   "outputs": [
    {
     "data": {
      "text/html": [
       "<div>\n",
       "<style scoped>\n",
       "    .dataframe tbody tr th:only-of-type {\n",
       "        vertical-align: middle;\n",
       "    }\n",
       "\n",
       "    .dataframe tbody tr th {\n",
       "        vertical-align: top;\n",
       "    }\n",
       "\n",
       "    .dataframe thead th {\n",
       "        text-align: right;\n",
       "    }\n",
       "</style>\n",
       "<table border=\"1\" class=\"dataframe\">\n",
       "  <thead>\n",
       "    <tr style=\"text-align: right;\">\n",
       "      <th></th>\n",
       "      <th>student</th>\n",
       "      <th>studietimmar</th>\n",
       "      <th>provpoäng</th>\n",
       "      <th>klass</th>\n",
       "      <th>poäng_per_timme</th>\n",
       "    </tr>\n",
       "  </thead>\n",
       "  <tbody>\n",
       "    <tr>\n",
       "      <th>1</th>\n",
       "      <td>Elev 059</td>\n",
       "      <td>NaN</td>\n",
       "      <td>94.0</td>\n",
       "      <td>A</td>\n",
       "      <td>NaN</td>\n",
       "    </tr>\n",
       "    <tr>\n",
       "      <th>4</th>\n",
       "      <td>Elev 070</td>\n",
       "      <td>NaN</td>\n",
       "      <td>93.0</td>\n",
       "      <td>B</td>\n",
       "      <td>NaN</td>\n",
       "    </tr>\n",
       "    <tr>\n",
       "      <th>75</th>\n",
       "      <td>Elev 074</td>\n",
       "      <td>NaN</td>\n",
       "      <td>70.0</td>\n",
       "      <td>A</td>\n",
       "      <td>NaN</td>\n",
       "    </tr>\n",
       "    <tr>\n",
       "      <th>76</th>\n",
       "      <td>Elev 048</td>\n",
       "      <td>NaN</td>\n",
       "      <td>89.0</td>\n",
       "      <td>A</td>\n",
       "      <td>NaN</td>\n",
       "    </tr>\n",
       "  </tbody>\n",
       "</table>\n",
       "</div>"
      ],
      "text/plain": [
       "     student  studietimmar  provpoäng klass  poäng_per_timme\n",
       "1   Elev 059           NaN       94.0     A              NaN\n",
       "4   Elev 070           NaN       93.0     B              NaN\n",
       "75  Elev 074           NaN       70.0     A              NaN\n",
       "76  Elev 048           NaN       89.0     A              NaN"
      ]
     },
     "execution_count": 56,
     "metadata": {},
     "output_type": "execute_result"
    }
   ],
   "source": [
    "df[df[\"studietimmar\"].isna()]"
   ]
  },
  {
   "cell_type": "code",
   "execution_count": 59,
   "id": "08d4ac4a",
   "metadata": {},
   "outputs": [
    {
     "data": {
      "text/plain": [
       "np.int64(0)"
      ]
     },
     "execution_count": 59,
     "metadata": {},
     "output_type": "execute_result"
    }
   ],
   "source": [
    "df_fylld = df.copy()\n",
    "\n",
    "df_fylld[\"studietimmar\"] = df_fylld[\"studietimmar\"].fillna(0)\n",
    "\n",
    "df_fylld[\"studietimmar\"].isna().sum()"
   ]
  },
  {
   "cell_type": "code",
   "execution_count": 66,
   "id": "6cc4fae0",
   "metadata": {},
   "outputs": [
    {
     "data": {
      "text/html": [
       "<div>\n",
       "<style scoped>\n",
       "    .dataframe tbody tr th:only-of-type {\n",
       "        vertical-align: middle;\n",
       "    }\n",
       "\n",
       "    .dataframe tbody tr th {\n",
       "        vertical-align: top;\n",
       "    }\n",
       "\n",
       "    .dataframe thead th {\n",
       "        text-align: right;\n",
       "    }\n",
       "</style>\n",
       "<table border=\"1\" class=\"dataframe\">\n",
       "  <thead>\n",
       "    <tr style=\"text-align: right;\">\n",
       "      <th></th>\n",
       "      <th>student</th>\n",
       "      <th>studietimmar</th>\n",
       "      <th>provpoäng</th>\n",
       "      <th>klass</th>\n",
       "      <th>poäng_per_timme</th>\n",
       "    </tr>\n",
       "  </thead>\n",
       "  <tbody>\n",
       "    <tr>\n",
       "      <th>0</th>\n",
       "      <td>Elev 065</td>\n",
       "      <td>0.7</td>\n",
       "      <td>55.0</td>\n",
       "      <td>B</td>\n",
       "      <td>78.571429</td>\n",
       "    </tr>\n",
       "    <tr>\n",
       "      <th>1</th>\n",
       "      <td>Elev 060</td>\n",
       "      <td>8.0</td>\n",
       "      <td>100.0</td>\n",
       "      <td>A</td>\n",
       "      <td>12.500000</td>\n",
       "    </tr>\n",
       "    <tr>\n",
       "      <th>2</th>\n",
       "      <td>Elev 005</td>\n",
       "      <td>5.8</td>\n",
       "      <td>100.0</td>\n",
       "      <td>A</td>\n",
       "      <td>17.241379</td>\n",
       "    </tr>\n",
       "    <tr>\n",
       "      <th>3</th>\n",
       "      <td>Elev 054</td>\n",
       "      <td>2.2</td>\n",
       "      <td>50.0</td>\n",
       "      <td>B</td>\n",
       "      <td>22.727273</td>\n",
       "    </tr>\n",
       "    <tr>\n",
       "      <th>4</th>\n",
       "      <td>Elev 032</td>\n",
       "      <td>0.2</td>\n",
       "      <td>66.0</td>\n",
       "      <td>C</td>\n",
       "      <td>330.000000</td>\n",
       "    </tr>\n",
       "  </tbody>\n",
       "</table>\n",
       "</div>"
      ],
      "text/plain": [
       "    student  studietimmar  provpoäng klass  poäng_per_timme\n",
       "0  Elev 065           0.7       55.0     B        78.571429\n",
       "1  Elev 060           8.0      100.0     A        12.500000\n",
       "2  Elev 005           5.8      100.0     A        17.241379\n",
       "3  Elev 054           2.2       50.0     B        22.727273\n",
       "4  Elev 032           0.2       66.0     C       330.000000"
      ]
     },
     "execution_count": 66,
     "metadata": {},
     "output_type": "execute_result"
    }
   ],
   "source": [
    "df.isna().sum()\n",
    "\n",
    "df_clean = df.dropna(subset=[\"studietimmar\", \"provpoäng\"]).reset_index(drop=True)\n",
    "\n",
    "df_clean.head()"
   ]
  },
  {
   "cell_type": "code",
   "execution_count": 67,
   "id": "87ed8395",
   "metadata": {},
   "outputs": [
    {
     "data": {
      "text/plain": [
       "(80, 74, 6)"
      ]
     },
     "execution_count": 67,
     "metadata": {},
     "output_type": "execute_result"
    }
   ],
   "source": [
    "len(df), len(df_clean), len(df) - len(df_clean)"
   ]
  },
  {
   "cell_type": "code",
   "execution_count": 71,
   "id": "d68d3d7c",
   "metadata": {},
   "outputs": [
    {
     "data": {
      "text/html": [
       "<div>\n",
       "<style scoped>\n",
       "    .dataframe tbody tr th:only-of-type {\n",
       "        vertical-align: middle;\n",
       "    }\n",
       "\n",
       "    .dataframe tbody tr th {\n",
       "        vertical-align: top;\n",
       "    }\n",
       "\n",
       "    .dataframe thead th {\n",
       "        text-align: right;\n",
       "    }\n",
       "</style>\n",
       "<table border=\"1\" class=\"dataframe\">\n",
       "  <thead>\n",
       "    <tr style=\"text-align: right;\">\n",
       "      <th></th>\n",
       "      <th>klass</th>\n",
       "      <th>antal</th>\n",
       "      <th>medel</th>\n",
       "      <th>median</th>\n",
       "      <th>std</th>\n",
       "    </tr>\n",
       "  </thead>\n",
       "  <tbody>\n",
       "    <tr>\n",
       "      <th>0</th>\n",
       "      <td>A</td>\n",
       "      <td>25</td>\n",
       "      <td>85.720000</td>\n",
       "      <td>89.0</td>\n",
       "      <td>11.900700</td>\n",
       "    </tr>\n",
       "    <tr>\n",
       "      <th>1</th>\n",
       "      <td>B</td>\n",
       "      <td>27</td>\n",
       "      <td>73.148148</td>\n",
       "      <td>70.0</td>\n",
       "      <td>13.863909</td>\n",
       "    </tr>\n",
       "    <tr>\n",
       "      <th>2</th>\n",
       "      <td>C</td>\n",
       "      <td>26</td>\n",
       "      <td>71.307692</td>\n",
       "      <td>70.0</td>\n",
       "      <td>9.926809</td>\n",
       "    </tr>\n",
       "  </tbody>\n",
       "</table>\n",
       "</div>"
      ],
      "text/plain": [
       "  klass  antal      medel  median        std\n",
       "0     A     25  85.720000    89.0  11.900700\n",
       "1     B     27  73.148148    70.0  13.863909\n",
       "2     C     26  71.307692    70.0   9.926809"
      ]
     },
     "execution_count": 71,
     "metadata": {},
     "output_type": "execute_result"
    }
   ],
   "source": [
    "sammanfattning = (\n",
    "    df.groupby(\"klass\")[\"provpoäng\"]\n",
    "    .agg(antal = \"count\", medel = \"mean\", median = \"median\", std = \"std\")\n",
    "    .reset_index()\n",
    ")\n",
    "\n",
    "sammanfattning"
   ]
  },
  {
   "cell_type": "code",
   "execution_count": null,
   "id": "fa1a8e07",
   "metadata": {},
   "outputs": [
    {
     "data": {
      "text/html": [
       "<div>\n",
       "<style scoped>\n",
       "    .dataframe tbody tr th:only-of-type {\n",
       "        vertical-align: middle;\n",
       "    }\n",
       "\n",
       "    .dataframe tbody tr th {\n",
       "        vertical-align: top;\n",
       "    }\n",
       "\n",
       "    .dataframe thead th {\n",
       "        text-align: right;\n",
       "    }\n",
       "</style>\n",
       "<table border=\"1\" class=\"dataframe\">\n",
       "  <thead>\n",
       "    <tr style=\"text-align: right;\">\n",
       "      <th></th>\n",
       "      <th>klass</th>\n",
       "      <th>provpoäng_medel</th>\n",
       "      <th>provpoäng_std</th>\n",
       "      <th>studietimmar_median</th>\n",
       "    </tr>\n",
       "  </thead>\n",
       "  <tbody>\n",
       "    <tr>\n",
       "      <th>0</th>\n",
       "      <td>A</td>\n",
       "      <td>85.720000</td>\n",
       "      <td>11.900700</td>\n",
       "      <td>5.8</td>\n",
       "    </tr>\n",
       "    <tr>\n",
       "      <th>1</th>\n",
       "      <td>B</td>\n",
       "      <td>73.148148</td>\n",
       "      <td>13.863909</td>\n",
       "      <td>5.0</td>\n",
       "    </tr>\n",
       "    <tr>\n",
       "      <th>2</th>\n",
       "      <td>C</td>\n",
       "      <td>71.307692</td>\n",
       "      <td>9.926809</td>\n",
       "      <td>3.7</td>\n",
       "    </tr>\n",
       "  </tbody>\n",
       "</table>\n",
       "</div>"
      ],
      "text/plain": [
       "  klass  provpoäng_medel  provpoäng_std  studietimmar_median\n",
       "0     A        85.720000      11.900700                  5.8\n",
       "1     B        73.148148      13.863909                  5.0\n",
       "2     C        71.307692       9.926809                  3.7"
      ]
     },
     "execution_count": 74,
     "metadata": {},
     "output_type": "execute_result"
    }
   ],
   "source": [
    "df.groupby(\"klass\").agg(\n",
    "    provpoäng_medel = (\"provpoäng\", \"mean\"),\n",
    "    provpoäng_std = (\"provpoäng\", \"std\"),\n",
    "    studietimmar_median = (\"studietimmar\", \"median\")\n",
    ").reset_index()\n",
    "\n",
    "# nytt_kolumnnamn = (kolumn, funktion)"
   ]
  },
  {
   "cell_type": "code",
   "execution_count": 77,
   "id": "0f1660c0",
   "metadata": {},
   "outputs": [
    {
     "data": {
      "text/plain": [
       "klass\n",
       "B    0.35\n",
       "C    0.34\n",
       "A    0.31\n",
       "Name: proportion, dtype: float64"
      ]
     },
     "execution_count": 77,
     "metadata": {},
     "output_type": "execute_result"
    }
   ],
   "source": [
    "df[\"klass\"].value_counts(normalize=True).round(2)"
   ]
  },
  {
   "cell_type": "code",
   "execution_count": 81,
   "id": "3e9cae2c",
   "metadata": {},
   "outputs": [
    {
     "data": {
      "text/plain": [
       "Text(0.5, 1.0, 'Studietimmar vs Provpoäng')"
      ]
     },
     "execution_count": 81,
     "metadata": {},
     "output_type": "execute_result"
    },
    {
     "data": {
      "image/png": "[encoded data removed]",
      "text/plain": [
       "<Figure size 640x480 with 1 Axes>"
      ]
     },
     "metadata": {},
     "output_type": "display_data"
    }
   ],
   "source": [
    "ax = df.plot(kind=\"scatter\", x = \"studietimmar\", y=\"provpoäng\", alpha=0.7)\n",
    "ax.set_title(\"Studietimmar vs Provpoäng\")"
   ]
  }
 ],
 "metadata": {
  "kernelspec": {
   "display_name": ".venv",
   "language": "python",
   "name": "python3"
  },
  "language_info": {
   "codemirror_mode": {
    "name": "ipython",
    "version": 3
   },
   "file_extension": ".py",
   "mimetype": "text/x-python",
   "name": "python",
   "nbconvert_exporter": "python",
   "pygments_lexer": "ipython3",
   "version": "3.13.7"
  }
 },
 "nbformat": 4,
 "nbformat_minor": 5
}
