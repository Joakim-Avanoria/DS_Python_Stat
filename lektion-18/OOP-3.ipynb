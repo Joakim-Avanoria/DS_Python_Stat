{
 "cells": [
  {
   "cell_type": "markdown",
   "id": "49e641f5",
   "metadata": {},
   "source": [
    "# OOP - Inkapsling & @property"
   ]
  },
  {
   "cell_type": "markdown",
   "id": "9503d2ab",
   "metadata": {},
   "source": [
    "Inkapsling = att gömma detaljer och presentera en enkel yta.\n",
    "\n",
    "- Publikt: inga underscores, avsett för andra.\n",
    "- Internt (konvention): _internt_namn.\n",
    "- Name mangling: __namn -> ändrar namnet till _Klassnamn__namn -> minskar risk för krock i arv."
   ]
  },
  {
   "cell_type": "code",
   "execution_count": 3,
   "id": "4846f4b6",
   "metadata": {},
   "outputs": [
    {
     "name": "stdout",
     "output_type": "stream",
     "text": [
      "5.0\n",
      "3\n",
      "5.656854249492381\n"
     ]
    }
   ],
   "source": [
    "class Point:\n",
    "    def __init__(self, x: int, y: int) -> None:\n",
    "        self.x: int = x\n",
    "        self.y: int = y\n",
    "\n",
    "    def __repr__(self) -> str:\n",
    "        cls = type(self).__name__\n",
    "        return f\"{cls}(x = {self.x}, y = {self.y})\"\n",
    "    \n",
    "    def __str__(self) -> str:\n",
    "        return f\"({self.x}, {self.y})\"\n",
    "    \n",
    "    def __eq__(self, other: object) -> bool:\n",
    "        if not isinstance(other, Point):\n",
    "            return NotImplemented\n",
    "        \n",
    "        return self.x == other.x and self.y == other.y\n",
    "\n",
    "    # def distance_to_origin(self) -> float:\n",
    "    #     return (self.x**2 + self.y**2) ** 0.5\n",
    "    \n",
    "    @property\n",
    "    def magnitude(self) -> float:\n",
    "        # Beräknat fält - ser ut som ett attribut vid användning\n",
    "        return (self.x**2 + self.y**2) ** 0.5\n",
    "    \n",
    "    def move(self, dx = 0, dy = 0) -> None:\n",
    "        self.x = self.x + dx\n",
    "        self.y = self.y + dy\n",
    "\n",
    "\n",
    "p = Point(3, 4)\n",
    "print(p.magnitude)\n",
    "print(p.x)\n",
    "p.move(dx = 1)\n",
    "print(p.magnitude)"
   ]
  },
  {
   "cell_type": "code",
   "execution_count": 12,
   "id": "78da9397",
   "metadata": {},
   "outputs": [
    {
     "name": "stdout",
     "output_type": "stream",
     "text": [
      "100.0\n"
     ]
    }
   ],
   "source": [
    "class Account:\n",
    "    def __init__(self, owner: str, balance: float = 0.0):\n",
    "        self.owner = owner\n",
    "        # internt fält - signalerar \"rör inte utifrån\"\n",
    "        self._balance = 0.0\n",
    "        # använd propertyn för att få validering även vid init\n",
    "        self.balance = balance\n",
    "\n",
    "    @property\n",
    "    def balance(self):\n",
    "        return self._balance\n",
    "    \n",
    "    @balance.setter\n",
    "    def balance(self, value: float):\n",
    "        if value < 0:\n",
    "            raise ValueError(\"Balance may not be negative.\")\n",
    "        self._balance = float(value)\n",
    "\n",
    "    def deposit(self, amount: float):\n",
    "        if amount <= 0:\n",
    "            raise ValueError(\"Deposit must be positive.\")\n",
    "        self.balance = self._balance + amount\n",
    "\n",
    "    def withdraw(self, amount: float):\n",
    "        if amount <= 0:\n",
    "            raise ValueError(\"Withdrawal must be positive.\")\n",
    "        new_value = self._balance - amount\n",
    "        if new_value < 0:\n",
    "            raise ValueError(\"Insufficient funds.\")\n",
    "        self._balance = new_value\n",
    "\n",
    "\n",
    "\n",
    "a = Account(\"Joakim\", 100)\n",
    "\n",
    "print(a.balance)\n",
    "# a.withdraw(200)"
   ]
  },
  {
   "cell_type": "code",
   "execution_count": 15,
   "id": "2df60f8b",
   "metadata": {},
   "outputs": [
    {
     "name": "stdout",
     "output_type": "stream",
     "text": [
      "secret\n",
      "secret\n"
     ]
    }
   ],
   "source": [
    "class Demo:\n",
    "    def __init__(self):\n",
    "        self.__token = \"secret\"\n",
    "\n",
    "    def reveal(self):\n",
    "        return self.__token\n",
    "    \n",
    "d = Demo()\n",
    "print(d.reveal())\n",
    "# print(d.__token)\n",
    "print(d._Demo__token)"
   ]
  }
 ],
 "metadata": {
  "kernelspec": {
   "display_name": ".venv",
   "language": "python",
   "name": "python3"
  },
  "language_info": {
   "codemirror_mode": {
    "name": "ipython",
    "version": 3
   },
   "file_extension": ".py",
   "mimetype": "text/x-python",
   "name": "python",
   "nbconvert_exporter": "python",
   "pygments_lexer": "ipython3",
   "version": "3.13.7"
  }
 },
 "nbformat": 4,
 "nbformat_minor": 5
}
