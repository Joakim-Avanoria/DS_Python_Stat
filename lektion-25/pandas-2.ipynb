{
 "cells": [
  {
   "cell_type": "markdown",
   "id": "49e641f5",
   "metadata": {},
   "source": [
    "# Pandas - Rensa och sammanfatta"
   ]
  },
  {
   "cell_type": "code",
   "execution_count": 1,
   "id": "f3cbe8a1",
   "metadata": {},
   "outputs": [
    {
     "data": {
      "application/vnd.microsoft.datawrangler.viewer.v0+json": {
       "columns": [
        {
         "name": "index",
         "rawType": "int64",
         "type": "integer"
        },
        {
         "name": "student",
         "rawType": "object",
         "type": "string"
        },
        {
         "name": "studietimmar",
         "rawType": "float64",
         "type": "float"
        },
        {
         "name": "provpoäng",
         "rawType": "float64",
         "type": "float"
        },
        {
         "name": "klass",
         "rawType": "object",
         "type": "string"
        }
       ],
       "ref": "a71d20a3-343e-4a3b-8b27-e1c90d720e43",
       "rows": [
        [
         "0",
         "Elev 065",
         "0.7",
         "55.0",
         "B"
        ],
        [
         "1",
         "Elev 059",
         null,
         "94.0",
         "A"
        ],
        [
         "2",
         "Elev 060",
         "8.0",
         "100.0",
         "A"
        ],
        [
         "3",
         "Elev 005",
         "5.8",
         "100.0",
         "A"
        ],
        [
         "4",
         "Elev 070",
         null,
         "93.0",
         "B"
        ]
       ],
       "shape": {
        "columns": 4,
        "rows": 5
       }
      },
      "text/html": [
       "<div>\n",
       "<style scoped>\n",
       "    .dataframe tbody tr th:only-of-type {\n",
       "        vertical-align: middle;\n",
       "    }\n",
       "\n",
       "    .dataframe tbody tr th {\n",
       "        vertical-align: top;\n",
       "    }\n",
       "\n",
       "    .dataframe thead th {\n",
       "        text-align: right;\n",
       "    }\n",
       "</style>\n",
       "<table border=\"1\" class=\"dataframe\">\n",
       "  <thead>\n",
       "    <tr style=\"text-align: right;\">\n",
       "      <th></th>\n",
       "      <th>student</th>\n",
       "      <th>studietimmar</th>\n",
       "      <th>provpoäng</th>\n",
       "      <th>klass</th>\n",
       "    </tr>\n",
       "  </thead>\n",
       "  <tbody>\n",
       "    <tr>\n",
       "      <th>0</th>\n",
       "      <td>Elev 065</td>\n",
       "      <td>0.7</td>\n",
       "      <td>55.0</td>\n",
       "      <td>B</td>\n",
       "    </tr>\n",
       "    <tr>\n",
       "      <th>1</th>\n",
       "      <td>Elev 059</td>\n",
       "      <td>NaN</td>\n",
       "      <td>94.0</td>\n",
       "      <td>A</td>\n",
       "    </tr>\n",
       "    <tr>\n",
       "      <th>2</th>\n",
       "      <td>Elev 060</td>\n",
       "      <td>8.0</td>\n",
       "      <td>100.0</td>\n",
       "      <td>A</td>\n",
       "    </tr>\n",
       "    <tr>\n",
       "      <th>3</th>\n",
       "      <td>Elev 005</td>\n",
       "      <td>5.8</td>\n",
       "      <td>100.0</td>\n",
       "      <td>A</td>\n",
       "    </tr>\n",
       "    <tr>\n",
       "      <th>4</th>\n",
       "      <td>Elev 070</td>\n",
       "      <td>NaN</td>\n",
       "      <td>93.0</td>\n",
       "      <td>B</td>\n",
       "    </tr>\n",
       "  </tbody>\n",
       "</table>\n",
       "</div>"
      ],
      "text/plain": [
       "    student  studietimmar  provpoäng klass\n",
       "0  Elev 065           0.7       55.0     B\n",
       "1  Elev 059           NaN       94.0     A\n",
       "2  Elev 060           8.0      100.0     A\n",
       "3  Elev 005           5.8      100.0     A\n",
       "4  Elev 070           NaN       93.0     B"
      ]
     },
     "execution_count": 1,
     "metadata": {},
     "output_type": "execute_result"
    }
   ],
   "source": [
    "import pandas as pd\n",
    "\n",
    "df = pd.read_csv(\"studietimmar_poang.csv\")\n",
    "\n",
    "df.columns = (df.columns\n",
    "              .str.strip()\n",
    "              .str.replace(\" \", \"_\")\n",
    "              .str.lower())\n",
    "df.head()"
   ]
  },
  {
   "cell_type": "code",
   "execution_count": 4,
   "id": "0009163b",
   "metadata": {},
   "outputs": [
    {
     "name": "stdout",
     "output_type": "stream",
     "text": [
      "<class 'pandas.core.frame.DataFrame'>\n",
      "RangeIndex: 80 entries, 0 to 79\n",
      "Data columns (total 4 columns):\n",
      " #   Column        Non-Null Count  Dtype  \n",
      "---  ------        --------------  -----  \n",
      " 0   student       80 non-null     object \n",
      " 1   studietimmar  76 non-null     float64\n",
      " 2   provpoäng     78 non-null     float64\n",
      " 3   klass         80 non-null     object \n",
      "dtypes: float64(2), object(2)\n",
      "memory usage: 2.6+ KB\n",
      "None\n",
      "\n",
      "student         0\n",
      "studietimmar    4\n",
      "provpoäng       2\n",
      "klass           0\n",
      "dtype: int64\n",
      "\n",
      "student          object\n",
      "studietimmar    float64\n",
      "provpoäng       float64\n",
      "klass            object\n",
      "dtype: object\n"
     ]
    }
   ],
   "source": [
    "print(df.info())\n",
    "print()\n",
    "print(df.isna().sum())\n",
    "print()\n",
    "print(df.dtypes)"
   ]
  },
  {
   "cell_type": "code",
   "execution_count": 5,
   "id": "10ecd902",
   "metadata": {},
   "outputs": [],
   "source": [
    "df_clean = df.dropna(subset=[\"provpoäng\"])\n",
    "\n",
    "df_clean.loc[df_clean[\"studietimmar\"].isna(), \"studietimmar\"] = 0"
   ]
  },
  {
   "cell_type": "code",
   "execution_count": 7,
   "id": "0f7071bc",
   "metadata": {},
   "outputs": [
    {
     "name": "stdout",
     "output_type": "stream",
     "text": [
      "Dublettrader: 0\n",
      "Unika studenter: 78\n"
     ]
    }
   ],
   "source": [
    "print(\"Dublettrader:\", df_clean.duplicated().sum())\n",
    "df_clean = df_clean.drop_duplicates().reset_index(drop=True)\n",
    "print(\"Unika studenter:\", df_clean[\"student\"].nunique())"
   ]
  },
  {
   "cell_type": "code",
   "execution_count": null,
   "id": "5312b6e2",
   "metadata": {},
   "outputs": [
    {
     "data": {
      "application/vnd.microsoft.datawrangler.viewer.v0+json": {
       "columns": [
        {
         "name": "index",
         "rawType": "object",
         "type": "string"
        },
        {
         "name": "0",
         "rawType": "object",
         "type": "unknown"
        }
       ],
       "ref": "dcc4826e-61ce-44f1-9e38-be3e8ad41ee5",
       "rows": [
        [
         "student",
         "object"
        ],
        [
         "studietimmar",
         "float64"
        ],
        [
         "provpoäng",
         "float64"
        ],
        [
         "klass",
         "category"
        ]
       ],
       "shape": {
        "columns": 1,
        "rows": 4
       }
      },
      "text/plain": [
       "student           object\n",
       "studietimmar     float64\n",
       "provpoäng        float64\n",
       "klass           category\n",
       "dtype: object"
      ]
     },
     "execution_count": 8,
     "metadata": {},
     "output_type": "execute_result"
    }
   ],
   "source": [
    "df_clean[\"klass\"] = df_clean[\"klass\"].astype(\"category\")\n",
    "\n",
    "# df_clean[\"datum\"] = pd.to_datetime(df_clean[\"datum\"], dayfirst=True, errors=\"coerce\")\n",
    "df_clean.dtypes"
   ]
  },
  {
   "cell_type": "code",
   "execution_count": 9,
   "id": "c4bfb785",
   "metadata": {},
   "outputs": [
    {
     "data": {
      "application/vnd.microsoft.datawrangler.viewer.v0+json": {
       "columns": [
        {
         "name": "index",
         "rawType": "int64",
         "type": "integer"
        },
        {
         "name": "student",
         "rawType": "object",
         "type": "string"
        },
        {
         "name": "klass",
         "rawType": "category",
         "type": "unknown"
        },
        {
         "name": "studietimmar",
         "rawType": "float64",
         "type": "float"
        },
        {
         "name": "provpoäng",
         "rawType": "float64",
         "type": "float"
        },
        {
         "name": "poang_per_timme",
         "rawType": "float64",
         "type": "float"
        }
       ],
       "ref": "0c85dd0f-72c5-41aa-9344-9c5a37f68d2a",
       "rows": [
        [
         "0",
         "Elev 065",
         "B",
         "0.7",
         "55.0",
         "78.57142857142857"
        ],
        [
         "1",
         "Elev 059",
         "A",
         "0.0",
         "94.0",
         null
        ],
        [
         "2",
         "Elev 060",
         "A",
         "8.0",
         "100.0",
         "12.5"
        ],
        [
         "3",
         "Elev 005",
         "A",
         "5.8",
         "100.0",
         "17.24137931034483"
        ],
        [
         "4",
         "Elev 070",
         "B",
         "0.0",
         "93.0",
         null
        ]
       ],
       "shape": {
        "columns": 5,
        "rows": 5
       }
      },
      "text/html": [
       "<div>\n",
       "<style scoped>\n",
       "    .dataframe tbody tr th:only-of-type {\n",
       "        vertical-align: middle;\n",
       "    }\n",
       "\n",
       "    .dataframe tbody tr th {\n",
       "        vertical-align: top;\n",
       "    }\n",
       "\n",
       "    .dataframe thead th {\n",
       "        text-align: right;\n",
       "    }\n",
       "</style>\n",
       "<table border=\"1\" class=\"dataframe\">\n",
       "  <thead>\n",
       "    <tr style=\"text-align: right;\">\n",
       "      <th></th>\n",
       "      <th>student</th>\n",
       "      <th>klass</th>\n",
       "      <th>studietimmar</th>\n",
       "      <th>provpoäng</th>\n",
       "      <th>poang_per_timme</th>\n",
       "    </tr>\n",
       "  </thead>\n",
       "  <tbody>\n",
       "    <tr>\n",
       "      <th>0</th>\n",
       "      <td>Elev 065</td>\n",
       "      <td>B</td>\n",
       "      <td>0.7</td>\n",
       "      <td>55.0</td>\n",
       "      <td>78.571429</td>\n",
       "    </tr>\n",
       "    <tr>\n",
       "      <th>1</th>\n",
       "      <td>Elev 059</td>\n",
       "      <td>A</td>\n",
       "      <td>0.0</td>\n",
       "      <td>94.0</td>\n",
       "      <td>NaN</td>\n",
       "    </tr>\n",
       "    <tr>\n",
       "      <th>2</th>\n",
       "      <td>Elev 060</td>\n",
       "      <td>A</td>\n",
       "      <td>8.0</td>\n",
       "      <td>100.0</td>\n",
       "      <td>12.500000</td>\n",
       "    </tr>\n",
       "    <tr>\n",
       "      <th>3</th>\n",
       "      <td>Elev 005</td>\n",
       "      <td>A</td>\n",
       "      <td>5.8</td>\n",
       "      <td>100.0</td>\n",
       "      <td>17.241379</td>\n",
       "    </tr>\n",
       "    <tr>\n",
       "      <th>4</th>\n",
       "      <td>Elev 070</td>\n",
       "      <td>B</td>\n",
       "      <td>0.0</td>\n",
       "      <td>93.0</td>\n",
       "      <td>NaN</td>\n",
       "    </tr>\n",
       "  </tbody>\n",
       "</table>\n",
       "</div>"
      ],
      "text/plain": [
       "    student klass  studietimmar  provpoäng  poang_per_timme\n",
       "0  Elev 065     B           0.7       55.0        78.571429\n",
       "1  Elev 059     A           0.0       94.0              NaN\n",
       "2  Elev 060     A           8.0      100.0        12.500000\n",
       "3  Elev 005     A           5.8      100.0        17.241379\n",
       "4  Elev 070     B           0.0       93.0              NaN"
      ]
     },
     "execution_count": 9,
     "metadata": {},
     "output_type": "execute_result"
    }
   ],
   "source": [
    "df_clean = df_clean.assign(\n",
    "    poang_per_timme = df_clean[\"provpoäng\"]\n",
    "    .where(df_clean[\"studietimmar\"] > 0, other=pd.NA)\n",
    "    / df_clean[\"studietimmar\"]\n",
    ")\n",
    "df_clean[[\"student\", \"klass\", \"studietimmar\", \"provpoäng\", \"poang_per_timme\"]].head()"
   ]
  },
  {
   "cell_type": "code",
   "execution_count": 11,
   "id": "8f6bf28e",
   "metadata": {},
   "outputs": [
    {
     "data": {
      "application/vnd.microsoft.datawrangler.viewer.v0+json": {
       "columns": [
        {
         "name": "index",
         "rawType": "int64",
         "type": "integer"
        },
        {
         "name": "klass",
         "rawType": "category",
         "type": "unknown"
        },
        {
         "name": "antal",
         "rawType": "int64",
         "type": "integer"
        },
        {
         "name": "medel_poäng",
         "rawType": "float64",
         "type": "float"
        },
        {
         "name": "median_poäng",
         "rawType": "float64",
         "type": "float"
        },
        {
         "name": "std_poäng",
         "rawType": "float64",
         "type": "float"
        },
        {
         "name": "medel_timmar",
         "rawType": "float64",
         "type": "float"
        }
       ],
       "ref": "c948f4f3-027e-4b93-8c59-79536681b3ca",
       "rows": [
        [
         "0",
         "A",
         "25",
         "85.72",
         "89.0",
         "11.90070025950854",
         "5.184"
        ],
        [
         "1",
         "B",
         "27",
         "73.14814814814815",
         "70.0",
         "13.86390916040556",
         "4.685185185185185"
        ],
        [
         "2",
         "C",
         "26",
         "71.3076923076923",
         "70.0",
         "9.92680907752025",
         "3.9153846153846152"
        ]
       ],
       "shape": {
        "columns": 6,
        "rows": 3
       }
      },
      "text/html": [
       "<div>\n",
       "<style scoped>\n",
       "    .dataframe tbody tr th:only-of-type {\n",
       "        vertical-align: middle;\n",
       "    }\n",
       "\n",
       "    .dataframe tbody tr th {\n",
       "        vertical-align: top;\n",
       "    }\n",
       "\n",
       "    .dataframe thead th {\n",
       "        text-align: right;\n",
       "    }\n",
       "</style>\n",
       "<table border=\"1\" class=\"dataframe\">\n",
       "  <thead>\n",
       "    <tr style=\"text-align: right;\">\n",
       "      <th></th>\n",
       "      <th>klass</th>\n",
       "      <th>antal</th>\n",
       "      <th>medel_poäng</th>\n",
       "      <th>median_poäng</th>\n",
       "      <th>std_poäng</th>\n",
       "      <th>medel_timmar</th>\n",
       "    </tr>\n",
       "  </thead>\n",
       "  <tbody>\n",
       "    <tr>\n",
       "      <th>0</th>\n",
       "      <td>A</td>\n",
       "      <td>25</td>\n",
       "      <td>85.720000</td>\n",
       "      <td>89.0</td>\n",
       "      <td>11.900700</td>\n",
       "      <td>5.184000</td>\n",
       "    </tr>\n",
       "    <tr>\n",
       "      <th>1</th>\n",
       "      <td>B</td>\n",
       "      <td>27</td>\n",
       "      <td>73.148148</td>\n",
       "      <td>70.0</td>\n",
       "      <td>13.863909</td>\n",
       "      <td>4.685185</td>\n",
       "    </tr>\n",
       "    <tr>\n",
       "      <th>2</th>\n",
       "      <td>C</td>\n",
       "      <td>26</td>\n",
       "      <td>71.307692</td>\n",
       "      <td>70.0</td>\n",
       "      <td>9.926809</td>\n",
       "      <td>3.915385</td>\n",
       "    </tr>\n",
       "  </tbody>\n",
       "</table>\n",
       "</div>"
      ],
      "text/plain": [
       "  klass  antal  medel_poäng  median_poäng  std_poäng  medel_timmar\n",
       "0     A     25    85.720000          89.0  11.900700      5.184000\n",
       "1     B     27    73.148148          70.0  13.863909      4.685185\n",
       "2     C     26    71.307692          70.0   9.926809      3.915385"
      ]
     },
     "execution_count": 11,
     "metadata": {},
     "output_type": "execute_result"
    }
   ],
   "source": [
    "summary_klass = (df_clean\n",
    "                 .groupby(\"klass\", dropna=False, observed=True)\n",
    "                 .agg(\n",
    "                     antal = (\"student\", \"count\"),\n",
    "                     medel_poäng = (\"provpoäng\", \"mean\"),\n",
    "                     median_poäng = (\"provpoäng\", \"median\"),\n",
    "                     std_poäng = (\"provpoäng\", \"std\"),\n",
    "                     medel_timmar = (\"studietimmar\", \"mean\")\n",
    "                    )\n",
    "                    .reset_index()\n",
    "                 )\n",
    "\n",
    "summary_klass"
   ]
  },
  {
   "cell_type": "code",
   "execution_count": 19,
   "id": "5929a024",
   "metadata": {},
   "outputs": [
    {
     "data": {
      "application/vnd.microsoft.datawrangler.viewer.v0+json": {
       "columns": [
        {
         "name": "klass",
         "rawType": "category",
         "type": "unknown"
        },
        {
         "name": "(0, 60]",
         "rawType": "float64",
         "type": "float"
        },
        {
         "name": "(60, 80]",
         "rawType": "float64",
         "type": "float"
        },
        {
         "name": "(80, 100]",
         "rawType": "float64",
         "type": "float"
        }
       ],
       "ref": "4c8624ee-bf20-4d99-9d85-a1b7637d42c7",
       "rows": [
        [
         "A",
         "0.0",
         "0.4",
         "0.6"
        ],
        [
         "B",
         "0.19",
         "0.59",
         "0.22"
        ],
        [
         "C",
         "0.15",
         "0.69",
         "0.15"
        ]
       ],
       "shape": {
        "columns": 3,
        "rows": 3
       }
      },
      "text/html": [
       "<div>\n",
       "<style scoped>\n",
       "    .dataframe tbody tr th:only-of-type {\n",
       "        vertical-align: middle;\n",
       "    }\n",
       "\n",
       "    .dataframe tbody tr th {\n",
       "        vertical-align: top;\n",
       "    }\n",
       "\n",
       "    .dataframe thead th {\n",
       "        text-align: right;\n",
       "    }\n",
       "</style>\n",
       "<table border=\"1\" class=\"dataframe\">\n",
       "  <thead>\n",
       "    <tr style=\"text-align: right;\">\n",
       "      <th>provpoäng</th>\n",
       "      <th>(0, 60]</th>\n",
       "      <th>(60, 80]</th>\n",
       "      <th>(80, 100]</th>\n",
       "    </tr>\n",
       "    <tr>\n",
       "      <th>klass</th>\n",
       "      <th></th>\n",
       "      <th></th>\n",
       "      <th></th>\n",
       "    </tr>\n",
       "  </thead>\n",
       "  <tbody>\n",
       "    <tr>\n",
       "      <th>A</th>\n",
       "      <td>0.00</td>\n",
       "      <td>0.40</td>\n",
       "      <td>0.60</td>\n",
       "    </tr>\n",
       "    <tr>\n",
       "      <th>B</th>\n",
       "      <td>0.19</td>\n",
       "      <td>0.59</td>\n",
       "      <td>0.22</td>\n",
       "    </tr>\n",
       "    <tr>\n",
       "      <th>C</th>\n",
       "      <td>0.15</td>\n",
       "      <td>0.69</td>\n",
       "      <td>0.15</td>\n",
       "    </tr>\n",
       "  </tbody>\n",
       "</table>\n",
       "</div>"
      ],
      "text/plain": [
       "provpoäng  (0, 60]  (60, 80]  (80, 100]\n",
       "klass                                  \n",
       "A             0.00      0.40       0.60\n",
       "B             0.19      0.59       0.22\n",
       "C             0.15      0.69       0.15"
      ]
     },
     "execution_count": 19,
     "metadata": {},
     "output_type": "execute_result"
    }
   ],
   "source": [
    "bins = [0, 60, 80, 100]\n",
    "\n",
    "andelar = pd.crosstab(\n",
    "    df_clean[\"klass\"],\n",
    "    pd.cut(df_clean[\"provpoäng\"], bins=bins, right=True),\n",
    "    normalize=\"index\"\n",
    ").round(2)\n",
    "\n",
    "andelar"
   ]
  },
  {
   "cell_type": "code",
   "execution_count": 22,
   "id": "9888fb60",
   "metadata": {},
   "outputs": [
    {
     "name": "stdout",
     "output_type": "stream",
     "text": [
      "korrelation timmar-poäng 0.59\n"
     ]
    }
   ],
   "source": [
    "assert df_clean[\"provpoäng\"].between(0, 100).all()\n",
    "assert (df_clean[\"studietimmar\"] >= 0).all()\n",
    "\n",
    "corr = df_clean[[\"studietimmar\", \"provpoäng\"]].corr().iloc[0, 1]\n",
    "print(\"korrelation timmar-poäng\", round(float(corr), 2))"
   ]
  },
  {
   "cell_type": "code",
   "execution_count": 23,
   "id": "6996b011",
   "metadata": {},
   "outputs": [],
   "source": [
    "df_clean.to_csv(\"resultat_städad.csv\", index=False)\n",
    "summary_klass.to_csv(\"summary_by_class.csv\", index=False)\n",
    "andelar.to_csv(\"summary_by_class_bins.csv\", index=False)"
   ]
  }
 ],
 "metadata": {
  "kernelspec": {
   "display_name": ".venv",
   "language": "python",
   "name": "python3"
  },
  "language_info": {
   "codemirror_mode": {
    "name": "ipython",
    "version": 3
   },
   "file_extension": ".py",
   "mimetype": "text/x-python",
   "name": "python",
   "nbconvert_exporter": "python",
   "pygments_lexer": "ipython3",
   "version": "3.13.7"
  }
 },
 "nbformat": 4,
 "nbformat_minor": 5
}
