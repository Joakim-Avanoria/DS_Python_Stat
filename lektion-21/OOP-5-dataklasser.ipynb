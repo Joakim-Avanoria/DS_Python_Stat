{
 "cells": [
  {
   "cell_type": "markdown",
   "id": "49e641f5",
   "metadata": {},
   "source": [
    "# OOP - Dataklasser"
   ]
  },
  {
   "cell_type": "code",
   "execution_count": null,
   "id": "8eae1eb1",
   "metadata": {},
   "outputs": [],
   "source": [
    "class Item2:\n",
    "    def __init__(self, name: str, price: float, quantity: int = 1):\n",
    "        self.name = name\n",
    "        self.price = float(price)\n",
    "        self.quantity = int(quantity)\n",
    "\n",
    "    def __repr__(self):\n",
    "        return f\"Item(name={self.name!r}, price={self.price}, quantity={self.quantity})\"\n",
    "\n",
    "    def __eq__(self, other: object):\n",
    "        if not isinstance(other, Item):\n",
    "            return NotImplemented\n",
    "        return (self.name, self.price, self.quantity) == (other.name, other.price, other.quantity)\n",
    "\n",
    "from dataclasses import dataclass\n",
    "\n",
    "@dataclass\n",
    "class Item:\n",
    "    name: str\n",
    "    price: float\n",
    "    quantity: int = 1"
   ]
  },
  {
   "cell_type": "code",
   "execution_count": null,
   "id": "bcce0dcf",
   "metadata": {},
   "outputs": [],
   "source": [
    "i1 = Item(\"Banan\", 5.0, 3)\n",
    "i2 = Item(\"Banan\", 5.0, 3)\n",
    "\n",
    "i3 = Item2(\"Banan\", 5.0, 3)\n",
    "i4 = Item2(\"Banan\", 5.0, 3)\n",
    "\n",
    "print(i1)\n",
    "print(i1 == i2)\n",
    "\n",
    "print(i3)\n",
    "print(i3 == i4)"
   ]
  },
  {
   "cell_type": "code",
   "execution_count": null,
   "id": "f91e505e",
   "metadata": {},
   "outputs": [],
   "source": [
    "from typing import List\n",
    "from dataclasses import dataclass, field\n",
    "\n",
    "@dataclass\n",
    "class Order:\n",
    "    customer: str\n",
    "    items: List[Item] = field(default_factory=list)\n",
    "\n",
    "\n",
    "o1 = Order(\"Joakim\")\n",
    "o1.items.append(Item(\"Banan\", 5.0))\n",
    "\n",
    "o2 = Order(\"Emil\")\n",
    "\n",
    "print(o1.items)\n",
    "print(o2.items)"
   ]
  },
  {
   "cell_type": "code",
   "execution_count": null,
   "id": "7c4b801b",
   "metadata": {},
   "outputs": [],
   "source": [
    "@dataclass(frozen=True)\n",
    "class Point:\n",
    "    x: float\n",
    "    y: float\n",
    "\n",
    "p = Point(3, 4)\n",
    "\n",
    "print(p)\n",
    "\n",
    "p.x = 10\n",
    "print(p)"
   ]
  },
  {
   "cell_type": "code",
   "execution_count": 5,
   "id": "a012508a",
   "metadata": {},
   "outputs": [
    {
     "name": "stdout",
     "output_type": "stream",
     "text": [
      "Account(owner='Hans', balance=-25)\n"
     ]
    }
   ],
   "source": [
    "@dataclass\n",
    "class Account:\n",
    "    owner: str\n",
    "    balance: float = 0.0\n",
    "\n",
    "    def __post_init__(self):\n",
    "        if self.balance < 0:\n",
    "            raise ValueError(\"Balance may not be nagative.\")\n",
    "        self.balance = float(self.balance)\n",
    "    \n",
    "\n",
    "a = Account(\"Hans\", 100)\n",
    "\n",
    "a.balance = -25\n",
    "print(a)"
   ]
  }
 ],
 "metadata": {
  "kernelspec": {
   "display_name": ".venv",
   "language": "python",
   "name": "python3"
  },
  "language_info": {
   "codemirror_mode": {
    "name": "ipython",
    "version": 3
   },
   "file_extension": ".py",
   "mimetype": "text/x-python",
   "name": "python",
   "nbconvert_exporter": "python",
   "pygments_lexer": "ipython3",
   "version": "3.13.7"
  }
 },
 "nbformat": 4,
 "nbformat_minor": 5
}
