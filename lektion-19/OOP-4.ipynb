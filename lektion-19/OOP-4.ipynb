{
 "cells": [
  {
   "cell_type": "markdown",
   "id": "49e641f5",
   "metadata": {},
   "source": [
    "# OOP - Sammansättning"
   ]
  },
  {
   "cell_type": "markdown",
   "id": "9503d2ab",
   "metadata": {},
   "source": [
    "* Sammanstättning (has-a): En varukorg **har** varor\n",
    "* Arv (is-a): En hund **är** et djur"
   ]
  },
  {
   "cell_type": "code",
   "execution_count": 53,
   "id": "ac4bf4b0",
   "metadata": {},
   "outputs": [],
   "source": [
    "class Item:\n",
    "    def __init__(self, name: str, price: float, quantity: int = 1):\n",
    "        self.name = name\n",
    "        self.price = price\n",
    "        self.quantity = quantity\n",
    "\n",
    "    def __repr__(self):\n",
    "        return f\"Item(name={self.name!r}, price={self.price}, quantity={self.quantity})\"\n",
    "    \n",
    "    @property\n",
    "    def line_total(self):\n",
    "        return self.price * self.quantity\n",
    "    \n",
    "  \n",
    "# i1 = Item(\"Banan\", 5.0, 3)\n",
    "\n",
    "# print(i1)\n",
    "# print(i1.line_total)"
   ]
  },
  {
   "cell_type": "code",
   "execution_count": 52,
   "id": "68c60f82",
   "metadata": {},
   "outputs": [],
   "source": [
    "from typing import List\n",
    "\n",
    "class Cart:\n",
    "    def __init__(self):\n",
    "        self._items: List[Item] = []\n",
    "\n",
    "    def add(self, item: Item):\n",
    "        for existing in self._items:\n",
    "            if existing.name == item.name and existing.price == item.price:\n",
    "                existing.quantity += item.quantity\n",
    "                return\n",
    "            \n",
    "        self._items.append(item)\n",
    "\n",
    "    def remove_by_name(self, name: str):\n",
    "        for idx, it in enumerate(self._items):\n",
    "            if it.name == name:\n",
    "                self._items.pop(idx)\n",
    "                return True\n",
    "        \n",
    "        return False\n",
    "    \n",
    "    def find(self, name: str):\n",
    "        for it in self._items:\n",
    "            if it.name == name:\n",
    "                return it\n",
    "        return None    \n",
    "\n",
    "    @property\n",
    "    def subtotal(self):\n",
    "        return sum(it.line_total for it in self._items)\n",
    "    \n",
    "    def count_items(self):\n",
    "        # return sum(it.quantity for it in self._items)\n",
    "        return len(self._items)\n",
    "    \n",
    "    def clear(self):\n",
    "        self._items.clear()\n",
    "\n",
    "    def __repr__(self):\n",
    "        return f\"Cart(items={self._item!r})\""
   ]
  },
  {
   "cell_type": "code",
   "execution_count": 54,
   "id": "c4e69acc",
   "metadata": {},
   "outputs": [],
   "source": [
    "class PercentageDiscount:\n",
    "    def __init__(self, rate: float):\n",
    "        # 0.10 = 10%\n",
    "        if not (0.0 <= rate <= 1.0):\n",
    "            raise ValueError(\"rate must be between 0.0 and 1.0\")\n",
    "        self.rate = rate\n",
    "\n",
    "    def apply(self, amount: float):\n",
    "        return amount * (1.0 - self.rate)"
   ]
  },
  {
   "cell_type": "code",
   "execution_count": 56,
   "id": "1aeac647",
   "metadata": {},
   "outputs": [
    {
     "name": "stdout",
     "output_type": "stream",
     "text": [
      "Delsumma: 44.0\n",
      "Med 10% rabatt: 39.6\n"
     ]
    }
   ],
   "source": [
    "cart = Cart()\n",
    "cart.add(Item(\"Banan\", 5.0, 3))\n",
    "cart.add(Item(\"Äpple\", 6.0, 2))\n",
    "cart.add(Item(\"Banan\", 5.0, 1))\n",
    "cart.add(Item(\"Mango\", 12.0, 1))\n",
    "\n",
    "print(\"Delsumma:\", cart.subtotal)\n",
    "\n",
    "# cart.remove_by_name(\"Äpple\")\n",
    "# print(cart.find(\"Äpple\"))\n",
    "# cart.clear()\n",
    "# print(cart)\n",
    "# print(cart.subtotal)\n",
    "# print(cart.count_items())\n",
    "\n",
    "disc10 = PercentageDiscount(0.10)\n",
    "total_with_discount = disc10.apply(cart.subtotal)\n",
    "print(\"Med 10% rabatt:\", total_with_discount)\n"
   ]
  }
 ],
 "metadata": {
  "kernelspec": {
   "display_name": ".venv",
   "language": "python",
   "name": "python3"
  },
  "language_info": {
   "codemirror_mode": {
    "name": "ipython",
    "version": 3
   },
   "file_extension": ".py",
   "mimetype": "text/x-python",
   "name": "python",
   "nbconvert_exporter": "python",
   "pygments_lexer": "ipython3",
   "version": "3.13.7"
  }
 },
 "nbformat": 4,
 "nbformat_minor": 5
}
