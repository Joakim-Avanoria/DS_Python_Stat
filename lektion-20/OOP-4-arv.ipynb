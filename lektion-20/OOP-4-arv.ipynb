{
 "cells": [
  {
   "cell_type": "markdown",
   "id": "49e641f5",
   "metadata": {},
   "source": [
    "# OOP - Arv och polymorfism"
   ]
  },
  {
   "cell_type": "markdown",
   "id": "9503d2ab",
   "metadata": {},
   "source": [
    "* Sammanstättning (has-a): En varukorg **har** varor\n",
    "* Arv (is-a): En hund **är** et djur\n",
    "\n",
    "* en Cirkel är en Form\n",
    "* alla former har .area()"
   ]
  },
  {
   "cell_type": "code",
   "execution_count": 2,
   "id": "2430821f",
   "metadata": {},
   "outputs": [],
   "source": [
    "class Shape:\n",
    "    def __init__(self, name: str, color: str = \"black\"):\n",
    "        self.name = name\n",
    "        self.color = color\n",
    "\n",
    "    def area(self):\n",
    "        raise NotImplementedError(\"Subclasses must implement .area()\")\n",
    "    \n",
    "    def describe(self):\n",
    "        return f\"{self.name} (color = {self.color}) has area {self.area():.2f}\"\n",
    "    \n",
    "    def __repr__(self):\n",
    "        return f\"Shape(name={self.name!r}, color={self.color!r})\""
   ]
  },
  {
   "cell_type": "code",
   "execution_count": 3,
   "id": "4268c8ac",
   "metadata": {},
   "outputs": [],
   "source": [
    "import math\n",
    "\n",
    "class Circle(Shape):\n",
    "    def __init__(self, radius: float, color: str = \"black\"):\n",
    "        super().__init__(name = \"Circle\", color = color)\n",
    "        self.radius = radius\n",
    "\n",
    "    def area(self):\n",
    "        return math.pi * (self.radius ** 2)\n",
    "    \n",
    "    def __repr__(self):\n",
    "        return f\"Circle(radius={self.radius}, color={self.color!r})\"\n",
    "    \n",
    "\n",
    "class Rectangle(Shape):\n",
    "    def __init__(self, width: float, height: float, color: str = \"black\"):\n",
    "        super().__init__(name = \"Rectangle\", color = color)\n",
    "        self.width = width\n",
    "        self.height = height\n",
    "\n",
    "    def area(self):\n",
    "        return self.width * self.height\n",
    "    \n",
    "    def __repr__(self):\n",
    "        return f\"Rectangle(width={self.width}, height={self.height}, color={self.color!r})\""
   ]
  },
  {
   "cell_type": "code",
   "execution_count": 9,
   "id": "f7d637e1",
   "metadata": {},
   "outputs": [
    {
     "name": "stdout",
     "output_type": "stream",
     "text": [
      "Circle(radius=3, color='red')\n",
      "Rectangle(width=4, height=2, color='blue')\n",
      "Circle (color = red) has area 28.27\n",
      "Rectangle (color = blue) has area 8.00\n"
     ]
    }
   ],
   "source": [
    "c = Circle(3, color = \"red\")\n",
    "r = Rectangle(4, 2, color = \"blue\")\n",
    "\n",
    "print(c)\n",
    "print(r)\n",
    "\n",
    "print(c.describe())\n",
    "print(r.describe())"
   ]
  },
  {
   "cell_type": "code",
   "execution_count": 10,
   "id": "f0330df0",
   "metadata": {},
   "outputs": [
    {
     "name": "stdout",
     "output_type": "stream",
     "text": [
      "Circle (color = orange) has area 7.07\n",
      "Rectangle (color = green) has area 10.00\n",
      "Circle (color = purple) has area 12.57\n"
     ]
    }
   ],
   "source": [
    "shapes: list[Shape] = [\n",
    "    Circle(1.5, \"orange\"),\n",
    "    Rectangle(2, 5, \"green\"),\n",
    "    Circle(2.0, \"purple\")\n",
    "]\n",
    "\n",
    "for s in shapes:\n",
    "    print(s.describe())"
   ]
  },
  {
   "cell_type": "code",
   "execution_count": 11,
   "id": "1d082e34",
   "metadata": {},
   "outputs": [
    {
     "name": "stdout",
     "output_type": "stream",
     "text": [
      "Total area: 29.634954084936208\n"
     ]
    }
   ],
   "source": [
    "def total_area(shapes: list[Shape]):\n",
    "    return sum(s.area() for s in shapes)\n",
    "\n",
    "print(\"Total area:\", total_area(shapes))"
   ]
  }
 ],
 "metadata": {
  "kernelspec": {
   "display_name": ".venv",
   "language": "python",
   "name": "python3"
  },
  "language_info": {
   "codemirror_mode": {
    "name": "ipython",
    "version": 3
   },
   "file_extension": ".py",
   "mimetype": "text/x-python",
   "name": "python",
   "nbconvert_exporter": "python",
   "pygments_lexer": "ipython3",
   "version": "3.13.7"
  }
 },
 "nbformat": 4,
 "nbformat_minor": 5
}
