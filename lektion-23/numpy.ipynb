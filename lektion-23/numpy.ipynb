{
 "cells": [
  {
   "cell_type": "markdown",
   "id": "49e641f5",
   "metadata": {},
   "source": [
    "# NumPy"
   ]
  },
  {
   "cell_type": "code",
   "execution_count": null,
   "id": "e31e0874",
   "metadata": {},
   "outputs": [],
   "source": [
    "import numpy as np\n",
    "\n",
    "py_list = [1, 2, 3]\n",
    "np_array = np.array([1, 2, 3])\n",
    "\n",
    "py_list, np_array\n",
    "print(type(py_list))\n",
    "print(type(np_array))"
   ]
  },
  {
   "cell_type": "code",
   "execution_count": null,
   "id": "f6a3346e",
   "metadata": {},
   "outputs": [],
   "source": [
    "py_list + [4, 5]\n",
    "np_array + 10"
   ]
  },
  {
   "cell_type": "code",
   "execution_count": null,
   "id": "d2c78055",
   "metadata": {},
   "outputs": [],
   "source": [
    "a = np.array([1, 2, 3])\n",
    "b = np.array([1.0, 2, 3])\n",
    "\n",
    "print(a.dtype, b.dtype)\n",
    "\n",
    "b = b.astype(np.int64)\n",
    "print(b, b.dtype)"
   ]
  },
  {
   "cell_type": "code",
   "execution_count": null,
   "id": "678e4092",
   "metadata": {},
   "outputs": [],
   "source": [
    "v = np.array([10, 20, 30, 40])  # 1D (en kolumn)\n",
    "m = np.array([[1, 2, 3],\n",
    "             [4, 5, 6]])        # 2D (2 rader, 3 kolumner)\n",
    "\n",
    "print(v.shape)\n",
    "print(m.shape)"
   ]
  },
  {
   "cell_type": "code",
   "execution_count": null,
   "id": "021f0342",
   "metadata": {},
   "outputs": [],
   "source": [
    "np.arange(12).reshape(3, 4)"
   ]
  },
  {
   "cell_type": "code",
   "execution_count": null,
   "id": "fff2e961",
   "metadata": {},
   "outputs": [],
   "source": [
    "np.zeros((2, 3))\n",
    "np.ones((2, 3))\n",
    "np.linspace(0, 1, 5)"
   ]
  },
  {
   "cell_type": "code",
   "execution_count": null,
   "id": "3743c7fc",
   "metadata": {},
   "outputs": [],
   "source": [
    "x = np.array([10, 20, 30, 40])\n",
    "y = np.array([1, 2, 3, 4])\n",
    "\n",
    "x + y\n",
    "x * 2\n",
    "x ** 2\n",
    "\n",
    "x.mean()\n",
    "x.std()\n",
    "x.min()\n",
    "x.max()"
   ]
  },
  {
   "cell_type": "code",
   "execution_count": null,
   "id": "bf5327bd",
   "metadata": {},
   "outputs": [],
   "source": [
    "M = np.array([[1, 2, 3], \n",
    "              [4, 5, 6]])           # shape (2, 3)\n",
    "v = np.array([10, 20, 30])          # shape (3,)\n",
    "\n",
    "m_plus_v = M + v\n",
    "M_plus_100 = M + 100\n",
    "\n",
    "print(M.shape, v.shape)\n",
    "print(m_plus_v)\n",
    "print(M_plus_100)"
   ]
  },
  {
   "cell_type": "code",
   "execution_count": null,
   "id": "92195bdd",
   "metadata": {},
   "outputs": [],
   "source": [
    "col = np.array([[10], [100]])  #shape (2, 1)\n",
    "\n",
    "M + col"
   ]
  },
  {
   "cell_type": "code",
   "execution_count": null,
   "id": "30832f67",
   "metadata": {},
   "outputs": [],
   "source": [
    "# np.ones((3, 2)) + np.array([1, 2, 3])\n",
    "#(3, 2) + (3,) -> tänk (3, 2) + (1, 3) => andra dim: 2 vs 3 -> ValueError\n",
    "\n",
    "# np.ones((3, 2)) + np.ones((2, 3))\n",
    "#(3,2) + (2, 3) -> första dim: 3 vs 2 -> VaueError"
   ]
  },
  {
   "cell_type": "code",
   "execution_count": null,
   "id": "70d1d360",
   "metadata": {},
   "outputs": [],
   "source": [
    "z = np.arange(12).reshape(3, 4)\n",
    "print(z)\n",
    "print(z[0, 1])\n",
    "print(z[1])\n",
    "print(z[:, 0]) # första kolumnen\n",
    "print(z[:, 1:3]) # kolumn 1 och 2"
   ]
  },
  {
   "cell_type": "code",
   "execution_count": null,
   "id": "a276828a",
   "metadata": {},
   "outputs": [],
   "source": [
    "mask = z % 2 == 0\n",
    "\n",
    "mask, z[mask]"
   ]
  },
  {
   "cell_type": "code",
   "execution_count": null,
   "id": "15f62233",
   "metadata": {},
   "outputs": [],
   "source": [
    "scores = np.array([50, 60, 70, 80, 90], dtype=np.float64)\n",
    "\n",
    "z = (scores - scores.mean()) / scores.std()\n",
    "\n",
    "scores.mean(), scores.std(), z.round(2)"
   ]
  }
 ],
 "metadata": {
  "kernelspec": {
   "display_name": ".venv",
   "language": "python",
   "name": "python3"
  },
  "language_info": {
   "codemirror_mode": {
    "name": "ipython",
    "version": 3
   },
   "file_extension": ".py",
   "mimetype": "text/x-python",
   "name": "python",
   "nbconvert_exporter": "python",
   "pygments_lexer": "ipython3",
   "version": "3.13.7"
  }
 },
 "nbformat": 4,
 "nbformat_minor": 5
}
