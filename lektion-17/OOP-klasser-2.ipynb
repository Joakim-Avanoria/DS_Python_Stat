{
 "cells": [
  {
   "cell_type": "markdown",
   "id": "49e641f5",
   "metadata": {},
   "source": [
    "# OOP - Gör objekten \"lättlästa\""
   ]
  },
  {
   "cell_type": "code",
   "execution_count": null,
   "id": "4846f4b6",
   "metadata": {},
   "outputs": [],
   "source": [
    "class Point:\n",
    "    def __init__(self, x: int, y: int) -> None:\n",
    "        self.x: int = x\n",
    "        self.y: int = y\n",
    "\n",
    "    def __repr__(self) -> str:\n",
    "        cls = type(self).__name__\n",
    "        return f\"{cls}(x = {self.x}, y = {self.y})\"\n",
    "    \n",
    "    def __str__(self) -> str:\n",
    "        return f\"({self.x}, {self.y})\"\n",
    "    \n",
    "    def __eq__(self, other: object) -> bool:\n",
    "        if not isinstance(other, Point):\n",
    "            return NotImplemented\n",
    "        \n",
    "        return self.x == other.x and self.y == other.y\n",
    "\n",
    "    # En metod: räkna avstånd till origo\n",
    "    def distance_to_origin(self) -> float:\n",
    "        return (self.x**2 + self.y**2) ** 0.5\n",
    "    \n",
    "    def move(self, dx = 0, dy = 0) -> None:\n",
    "        self.x = self.x + dx\n",
    "        self.y = self.y + dy\n",
    "\n",
    "\n",
    "# p = Point(3, 4)\n",
    "\n",
    "\n",
    "# print(p)\n",
    "# print(repr(p))\n"
   ]
  },
  {
   "cell_type": "code",
   "execution_count": 5,
   "id": "6ad434cb",
   "metadata": {},
   "outputs": [
    {
     "name": "stdout",
     "output_type": "stream",
     "text": [
      "(2.4, 5.0)\n",
      "5.546169849544818\n"
     ]
    }
   ],
   "source": [
    "pt = Point(2.4, 5.0)\n",
    "print(pt)\n",
    "print(pt.distance_to_origin())"
   ]
  },
  {
   "cell_type": "code",
   "execution_count": null,
   "id": "39fafc9d",
   "metadata": {},
   "outputs": [],
   "source": [
    "p1 = Point(3, 4)\n",
    "p2 = Point(3, 4)\n",
    "p3 = p1\n",
    "p4 = Point(4, 4)\n",
    "\n",
    "print(p1 == p2)\n",
    "print(p1 == p3)\n",
    "print(p1 == p4)\n",
    "# print(p1 is p2)\n",
    "# print(p1 is p3)"
   ]
  }
 ],
 "metadata": {
  "kernelspec": {
   "display_name": ".venv",
   "language": "python",
   "name": "python3"
  },
  "language_info": {
   "codemirror_mode": {
    "name": "ipython",
    "version": 3
   },
   "file_extension": ".py",
   "mimetype": "text/x-python",
   "name": "python",
   "nbconvert_exporter": "python",
   "pygments_lexer": "ipython3",
   "version": "3.13.7"
  }
 },
 "nbformat": 4,
 "nbformat_minor": 5
}
