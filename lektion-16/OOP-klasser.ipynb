{
 "cells": [
  {
   "cell_type": "markdown",
   "id": "49e641f5",
   "metadata": {},
   "source": [
    "# OOP - Klasser\n",
    "\n",
    "Klass = \"ritning\" => Instans = \"saken byggd från ritningen\""
   ]
  },
  {
   "cell_type": "code",
   "execution_count": 4,
   "id": "e3d9f926",
   "metadata": {},
   "outputs": [
    {
     "name": "stdout",
     "output_type": "stream",
     "text": [
      "Punkt 1 (3, 4)\n",
      "Avstånd till origo: 5.0\n",
      "Punkt 2 (6, 8)\n",
      "Avstånd till origo: 10.0\n"
     ]
    }
   ],
   "source": [
    "p1 = (3, 4)\n",
    "p2 = (6, 8)\n",
    "\n",
    "# Avstånd till origo (0, 0)\n",
    "\n",
    "dist1 = (p1[0]**2 + p1[1]**2) ** 0.5\n",
    "dist2 = (p2[0]**2 + p2[1]**2) ** 0.5\n",
    "\n",
    "print(\"Punkt 1\", p1)\n",
    "print(\"Avstånd till origo:\", dist1)\n",
    "print(\"Punkt 2\", p2)\n",
    "print(\"Avstånd till origo:\", dist2)"
   ]
  },
  {
   "cell_type": "code",
   "execution_count": 14,
   "id": "4846f4b6",
   "metadata": {},
   "outputs": [
    {
     "name": "stdout",
     "output_type": "stream",
     "text": [
      "p1: 3 4\n",
      "p1 avstånd: 5.0\n",
      "p1 efter flytt: 3 5\n",
      "p1 avstånd efter flytt: 5.830951894845301\n"
     ]
    }
   ],
   "source": [
    "class Point:\n",
    "    def __init__(self, x, y):\n",
    "        self.x = x\n",
    "        self.y = y\n",
    "\n",
    "    # En metod: räkna avstånd till origo\n",
    "    def distance_to_origin(self):\n",
    "        return (self.x**2 + self.y**2) ** 0.5\n",
    "    \n",
    "    def move(self, dx = 0, dy = 0):\n",
    "        self.x = self.x + dx\n",
    "        self.y = self.y + dy\n",
    "\n",
    "\n",
    "p1 = Point(3, 4)\n",
    "p2 = Point(4, 8)\n",
    "\n",
    "print(\"p1:\", p1.x, p1.y)\n",
    "print(\"p1 avstånd:\", p1.distance_to_origin())\n",
    "\n",
    "p1.move(dy = 1)\n",
    "\n",
    "\n",
    "print(\"p1 efter flytt:\", p1.x, p1.y)\n",
    "print(\"p1 avstånd efter flytt:\", p1.distance_to_origin())"
   ]
  }
 ],
 "metadata": {
  "kernelspec": {
   "display_name": ".venv",
   "language": "python",
   "name": "python3"
  },
  "language_info": {
   "codemirror_mode": {
    "name": "ipython",
    "version": 3
   },
   "file_extension": ".py",
   "mimetype": "text/x-python",
   "name": "python",
   "nbconvert_exporter": "python",
   "pygments_lexer": "ipython3",
   "version": "3.13.7"
  }
 },
 "nbformat": 4,
 "nbformat_minor": 5
}
