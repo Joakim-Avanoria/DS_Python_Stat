{
 "cells": [
  {
   "cell_type": "markdown",
   "id": "f93597e7",
   "metadata": {},
   "source": [
    "# Tuples"
   ]
  },
  {
   "cell_type": "code",
   "execution_count": 1,
   "id": "63b67678",
   "metadata": {},
   "outputs": [
    {
     "name": "stdout",
     "output_type": "stream",
     "text": [
      "3 4\n"
     ]
    }
   ],
   "source": [
    "x = 3\n",
    "y = 4\n",
    "\n",
    "print(x, y)"
   ]
  },
  {
   "cell_type": "code",
   "execution_count": 6,
   "id": "c808c5d3",
   "metadata": {},
   "outputs": [
    {
     "name": "stdout",
     "output_type": "stream",
     "text": [
      "[10, 4]\n",
      "(8, 4)\n"
     ]
    }
   ],
   "source": [
    "coord_list = [3, 4]     # lista - paket som vi kan ändra\n",
    "coord_tuple = (3, 4)    # tuple - paket som inte ska ändras\n",
    "\n",
    "coord_list[0] = 10\n",
    "# coord_tuple[0] = 10\n",
    "\n",
    "coord_tuple = (coord_tuple[0] + 5, coord_tuple[1])\n",
    "\n",
    "print(coord_list)\n",
    "print(coord_tuple)"
   ]
  },
  {
   "cell_type": "code",
   "execution_count": null,
   "id": "28265eaf",
   "metadata": {},
   "outputs": [
    {
     "name": "stdout",
     "output_type": "stream",
     "text": [
      "3 4\n"
     ]
    }
   ],
   "source": [
    "p = (3, 4)\n",
    "\n",
    "# print(p)\n",
    "# print(p[0])\n",
    "# print(p[1])\n",
    "# print(len(p))\n",
    "\n",
    "x, y = p    # unpacking\n",
    "\n",
    "print(x, y)"
   ]
  },
  {
   "cell_type": "code",
   "execution_count": 14,
   "id": "10e8601f",
   "metadata": {},
   "outputs": [
    {
     "name": "stdout",
     "output_type": "stream",
     "text": [
      "0 Joakim\n",
      "1 Hans\n",
      "2 Emil\n",
      "dict_items([('name', 'Joakim'), ('age', 38)])\n"
     ]
    }
   ],
   "source": [
    "names = [\"Joakim\", \"Hans\", \"Emil\"]\n",
    "\n",
    "for idx, name in enumerate(names):\n",
    "    print(idx, name)\n",
    "\n",
    "person = {\n",
    "    \"name\": \"Joakim\",\n",
    "    \"age\": 38\n",
    "}\n",
    "\n",
    "print(person.items())"
   ]
  },
  {
   "cell_type": "code",
   "execution_count": 16,
   "id": "ba0c8c90",
   "metadata": {},
   "outputs": [
    {
     "name": "stdout",
     "output_type": "stream",
     "text": [
      "2\n",
      "7\n"
     ]
    }
   ],
   "source": [
    "def minmax(a, b):\n",
    "    return (min(a, b), max(a, b))\n",
    "\n",
    "lo, hi = minmax(7, 2)\n",
    "\n",
    "print(lo)\n",
    "print(hi)"
   ]
  },
  {
   "cell_type": "code",
   "execution_count": 23,
   "id": "494dd337",
   "metadata": {},
   "outputs": [
    {
     "name": "stdout",
     "output_type": "stream",
     "text": [
      "100\n",
      "[200, 300, 400, 500]\n"
     ]
    }
   ],
   "source": [
    "t = (10, 20, 30, 40, 50)\n",
    "\n",
    "# print(t[1:4])\n",
    "\n",
    "a = (1, 2)\n",
    "b = (3, 2)\n",
    "c = a + b\n",
    "# print(c)\n",
    "\n",
    "# print(c.count(2))\n",
    "# print(c.index(3))\n",
    "\n",
    "\n",
    "head,*rest  = (100, 200, 300, 400, 500)\n",
    "\n",
    "print(head)\n",
    "print(rest)"
   ]
  }
 ],
 "metadata": {
  "kernelspec": {
   "display_name": ".venv",
   "language": "python",
   "name": "python3"
  },
  "language_info": {
   "codemirror_mode": {
    "name": "ipython",
    "version": 3
   },
   "file_extension": ".py",
   "mimetype": "text/x-python",
   "name": "python",
   "nbconvert_exporter": "python",
   "pygments_lexer": "ipython3",
   "version": "3.13.7"
  }
 },
 "nbformat": 4,
 "nbformat_minor": 5
}
