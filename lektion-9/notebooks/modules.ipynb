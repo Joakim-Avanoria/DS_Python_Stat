{
 "cells": [
  {
   "cell_type": "markdown",
   "id": "2063892b",
   "metadata": {},
   "source": [
    "# Moduler"
   ]
  },
  {
   "cell_type": "code",
   "execution_count": null,
   "id": "5d85cea4",
   "metadata": {},
   "outputs": [],
   "source": [
    "import math\n",
    "import statistics\n",
    "import numpy as np\n",
    "\n",
    "print(math.sqrt(16))\n",
    "print(statistics.mean([1, 2, 3, 4, 5]))\n",
    "print(np.array([1, 2, 3]) * 2)"
   ]
  },
  {
   "cell_type": "code",
   "execution_count": null,
   "id": "3dd1ab85",
   "metadata": {},
   "outputs": [],
   "source": [
    "# import math_utils as mu\n",
    "from src.math_utils import multipy\n",
    "\n",
    "# print(math_utils.add(5, 10))\n",
    "# print(mu.add(10, 20))\n",
    "\n",
    "# print(math_utils.add(2, 3))\n",
    "print(multipy(2, 50))"
   ]
  },
  {
   "cell_type": "code",
   "execution_count": null,
   "id": "43c168fa",
   "metadata": {},
   "outputs": [],
   "source": [
    "# from src.math_utils import add, multipy\n",
    "import src.math_utils as mu\n",
    "\n",
    "print(mu.add(4, 5))"
   ]
  },
  {
   "cell_type": "code",
   "execution_count": null,
   "id": "14ba7fdd",
   "metadata": {},
   "outputs": [],
   "source": [
    "import sys, os\n",
    "sys.path.append(os.path.abspath(\"../src\"))\n",
    "\n",
    "import math_utils as mu\n",
    "mu.add(2, 5)"
   ]
  },
  {
   "cell_type": "code",
   "execution_count": 8,
   "id": "a962a4e9",
   "metadata": {},
   "outputs": [
    {
     "data": {
      "text/plain": [
       "'Hello Joakim'"
      ]
     },
     "execution_count": 8,
     "metadata": {},
     "output_type": "execute_result"
    }
   ],
   "source": [
    "import sys, os\n",
    "sys.path.append(os.path.abspath(\"..\"))\n",
    "\n",
    "# import src\n",
    "# import src.math_utils as mu\n",
    "from src import math_utils, greetings\n",
    "\n",
    "# src.math_utils.add(4, 5)\n",
    "math_utils.multipy(2, 5)\n",
    "greetings.greet(\"Joakim\")"
   ]
  }
 ],
 "metadata": {
  "kernelspec": {
   "display_name": ".venv",
   "language": "python",
   "name": "python3"
  },
  "language_info": {
   "codemirror_mode": {
    "name": "ipython",
    "version": 3
   },
   "file_extension": ".py",
   "mimetype": "text/x-python",
   "name": "python",
   "nbconvert_exporter": "python",
   "pygments_lexer": "ipython3",
   "version": "3.13.7"
  }
 },
 "nbformat": 4,
 "nbformat_minor": 5
}
